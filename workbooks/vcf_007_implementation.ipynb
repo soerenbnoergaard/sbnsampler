{
 "cells": [
  {
   "cell_type": "markdown",
   "metadata": {},
   "source": [
    "# VCF - Parametric low-pass filter\n",
    "\n",
    "This notebook focuses on the implementation aspects of the VCF, i.e. fixed word sizes and such.\n",
    "\n",
    "A low pass filter where the following parameters are independently controllable:\n",
    "\n",
    "- Cutoff frequency\n",
    "- Resonance\n",
    "\n",
    "References:\n",
    "- Basic filter structure from Stilson and Smith 1996 Analyzing the Moog VCF with Considerations for Digital Implementation\n",
    "- Referred to in Valimaki 2006 Oscillator and Filter Algorithms for Virtual Analog Synthesis page 26."
   ]
  },
  {
   "cell_type": "code",
   "execution_count": 1,
   "metadata": {},
   "outputs": [
    {
     "name": "stderr",
     "output_type": "stream",
     "text": [
      "/home/soren/.local/lib/python3.6/site-packages/fortranmagic.py:147: UserWarning: get_ipython_cache_dir has moved to the IPython.paths module since IPython 4.0.\n",
      "  self._lib_dir = os.path.join(get_ipython_cache_dir(), 'fortran')\n"
     ]
    },
    {
     "data": {
      "application/javascript": [
       "new Promise(function(resolve, reject) {\n",
       "\tvar script = document.createElement(\"script\");\n",
       "\tscript.onload = resolve;\n",
       "\tscript.onerror = reject;\n",
       "\tscript.src = \"https://raw.github.com/marijnh/CodeMirror/master/mode/fortran/fortran.js\";\n",
       "\tdocument.head.appendChild(script);\n",
       "}).then(() => {\n",
       "IPython.config.cell_magic_highlight['magic_fortran'] = {'reg':[/^%%fortran/]};\n",
       "});"
      ]
     },
     "metadata": {},
     "output_type": "display_data"
    }
   ],
   "source": [
    "import os\n",
    "import subprocess\n",
    "import textwrap\n",
    "\n",
    "import numpy as np\n",
    "import matplotlib.pyplot as plt\n",
    "from scipy import signal\n",
    "import scipy.io.wavfile\n",
    "from numba import jit\n",
    "\n",
    "%load_ext fortranmagic\n",
    "%load_ext Cython\n",
    "\n",
    "def get_chirp(fs=44100, fstart=20, fstop=20e3, amplitude=2**15, duration_s=10):\n",
    "    t = np.arange(duration_s*fs)/fs\n",
    "    x = amplitude * signal.chirp(t, f0=fstart, f1=fstop, t1=max(t), method=\"linear\")\n",
    "    return np.array(x, dtype=np.int16)\n",
    "\n",
    "def frequency_response(callback, cutoff, resonance,\n",
    "                       fs=44100, fstart=20, fstop=20e3, amplitude=2**15):\n",
    "    # Callback arguments:\n",
    "    # - x:         Filter input (List[int16])\n",
    "    # - length:    Length of x (int)\n",
    "    # - cutoff:    Cutoff argument (0-127)\n",
    "    # - resonance: Resonance argument (0-127)\n",
    "    x = get_chirp(fs=fs, fstart=fstart, fstop=fstop, amplitude=amplitude, duration_s=10)\n",
    "    y = callback(x, len(x), cutoff, resonance)\n",
    "    f = np.linspace(fstart, fstop, len(y))\n",
    "    #H = 1/amplitude * signal.hilbert(y)\n",
    "    H = 1/amplitude * abs(np.array(y))\n",
    "    return f, H\n",
    "\n",
    "def decorate_frequency_response(yrange=[-50, 10]):\n",
    "    fig, ax = plt.gcf(), plt.gca()\n",
    "    ax.grid(True, \"both\", \"both\")\n",
    "    ax.legend()\n",
    "    ax.set_xlim(20, 20e3)\n",
    "    ax.set_ylim(*yrange)\n",
    "    fig.tight_layout()"
   ]
  },
  {
   "cell_type": "markdown",
   "metadata": {},
   "source": [
    "## Implementations"
   ]
  },
  {
   "cell_type": "markdown",
   "metadata": {},
   "source": [
    "### Python"
   ]
  },
  {
   "cell_type": "code",
   "execution_count": 2,
   "metadata": {},
   "outputs": [],
   "source": [
    "@jit\n",
    "def nb_onepole(x, g, x1, y1):\n",
    "    #v = 4*x/5 + x1/5\n",
    "    v = 13*x/16 + 3*x1/16\n",
    "    y = (v-y1)*g + y1\n",
    "    return y\n",
    "\n",
    "@jit\n",
    "def map_cutoff(value):\n",
    "    assert(0 <= value <= 127)\n",
    "    b = 0.02\n",
    "    a = (0.8-b) / (127*127)\n",
    "    return a*value*value + b\n",
    "\n",
    "@jit\n",
    "def map_resonance(value):\n",
    "    assert(0 <= value <= 127)\n",
    "    b = 0.5\n",
    "    a = (3.5-b) / 127\n",
    "    return a*value + b\n",
    "    \n",
    "@jit\n",
    "def vcf(x, length, cutoff, resonance):\n",
    "    g = map_cutoff(cutoff)\n",
    "    k = map_resonance(resonance)\n",
    "    \n",
    "    y = [0]*length\n",
    "    w = [0, 0, 0, 0, 0] # Current sample\n",
    "    d = [0, 0, 0, 0, 0] # Delayed sample\n",
    "    \n",
    "    # Feedback gain compensation form Valimaki\n",
    "    G_comp = 0.5\n",
    "\n",
    "    for n in range(1, length):     \n",
    "        x_ = x[n]/16\n",
    "        w[0] = x_ - (d[4]*k - G_comp*x_)\n",
    "        w[1] = nb_onepole(w[0], g, d[0], d[1])\n",
    "        w[2] = nb_onepole(w[1], g, d[1], d[2])\n",
    "        w[3] = nb_onepole(w[2], g, d[2], d[3])\n",
    "        w[4] = nb_onepole(w[3], g, d[3], d[4])\n",
    "\n",
    "        for i in range(5):\n",
    "            d[i] = w[i]\n",
    "\n",
    "        y[n] = w[4]\n",
    "\n",
    "    return y"
   ]
  },
  {
   "cell_type": "markdown",
   "metadata": {},
   "source": [
    "### Fortran implementation"
   ]
  },
  {
   "cell_type": "code",
   "execution_count": 3,
   "metadata": {},
   "outputs": [
    {
     "name": "stdout",
     "output_type": "stream",
     "text": [
      "\n",
      "Ok. The following fortran objects are ready to use: f_onepole, f_map_cutoff, f_map_resonance, f_vcf\n"
     ]
    }
   ],
   "source": [
    "%%fortran -v\n",
    "\n",
    "real function f_onepole(x, g, x1, y1)\n",
    "    implicit none\n",
    "    real, intent(in) :: x, g, x1, y1\n",
    "    real :: v\n",
    "\n",
    "    v = 1.0/1.3 * x + 0.3/1.3*x1\n",
    "    f_onepole = (v-y1)*g + y1\n",
    "end function\n",
    "\n",
    "real function f_map_cutoff(midi)\n",
    "    implicit none\n",
    "    real, intent(in) :: midi\n",
    "    real, parameter :: b = 0.02\n",
    "    real, parameter :: a = (0.8-b) / (127*127)\n",
    "    f_map_cutoff = a*midi*midi + b\n",
    "end function\n",
    "\n",
    "real function f_map_resonance(midi)\n",
    "    implicit none\n",
    "    real, intent(in) :: midi\n",
    "    real, parameter :: b = 0.5\n",
    "    real, parameter :: a = (3.5-b) / (127)\n",
    "    f_map_resonance = a*midi + b\n",
    "end function\n",
    "\n",
    "subroutine f_vcf(x, length, cutoff, resonance, y)\n",
    "    real, intent(in) :: cutoff, resonance\n",
    "    integer, intent(in) :: length\n",
    "    real, intent(in) :: x(:)\n",
    "    real, intent(out) :: y(length)\n",
    "    real, parameter :: G_comp = 0.5\n",
    "    real :: w(5), d(5)\n",
    "    real :: g, k, x_\n",
    "    integer :: n\n",
    "\n",
    "    g = f_map_cutoff(cutoff)\n",
    "    k = f_map_resonance(resonance)\n",
    "        \n",
    "    w(:) = (/0, 0, 0, 0, 0/)\n",
    "    d(:) = (/0, 0, 0, 0, 0/)\n",
    "    \n",
    "    do n = 1, size(x)\n",
    "        x_ = x(n)/16.0\n",
    "        w(1) = x_ - (d(5)*k - G_comp*x_)\n",
    "        w(2) = f_onepole(w(1), g, d(1), d(2))\n",
    "        w(3) = f_onepole(w(2), g, d(2), d(3))\n",
    "        w(4) = f_onepole(w(3), g, d(3), d(4))\n",
    "        w(5) = f_onepole(w(4), g, d(4), d(5))\n",
    "        \n",
    "        d(:) = w(:)\n",
    "        y(n) = w(5)\n",
    "    end do\n",
    "end subroutine"
   ]
  },
  {
   "cell_type": "markdown",
   "metadata": {},
   "source": [
    "### Cython"
   ]
  },
  {
   "cell_type": "code",
   "execution_count": 4,
   "metadata": {},
   "outputs": [],
   "source": [
    "%%cython\n",
    "cdef float cy_map_cutoff_float(int value):\n",
    "    cdef float a, b\n",
    "    b = 0.02\n",
    "    a = (0.8-b) / (127*127)\n",
    "    return a*value*value + b\n",
    "\n",
    "cdef float cy_map_resonance_float(int value):\n",
    "    cdef float a, b\n",
    "    b = 0.5\n",
    "    a = (3.5-b) / 127\n",
    "    return a*value + b\n",
    "\n",
    "cdef short cy_onepole(short x, float g, short x1, short y1):\n",
    "    cdef float v\n",
    "    v = (13*(x>>4) + (3*(x1>>4)))\n",
    "    return <short>(<float>(v-y1)*g + y1)\n",
    "\n",
    "def cy_vcf(short[:] x, int length, int cutoff, int resonance):\n",
    "    cdef float g, k\n",
    "    cdef short[5] w\n",
    "    cdef short[5] d\n",
    "    cdef short x_\n",
    "    \n",
    "    g = cy_map_cutoff_float(cutoff)\n",
    "    k = cy_map_resonance_float(resonance)\n",
    "    \n",
    "    y = [0.0]*length\n",
    "    w = [0, 0, 0, 0, 0] # Current sample\n",
    "    d = [0, 0, 0, 0, 0] # Delayed sample\n",
    "\n",
    "    for n in range(1, length): \n",
    "        x_ = x[n]>>4\n",
    "        \n",
    "        w[0] = x_ - (<short>(<float>d[4]*k) - (x_>>1)) # x>>1 = G_comp = 0.5 from Valimaki\n",
    "        w[1] = cy_onepole(w[0], g, d[0], d[1])\n",
    "        w[2] = cy_onepole(w[1], g, d[1], d[2])\n",
    "        w[3] = cy_onepole(w[2], g, d[2], d[3])\n",
    "        w[4] = cy_onepole(w[3], g, d[3], d[4])\n",
    "\n",
    "        for i in range(5):\n",
    "            d[i] = w[i]\n",
    "\n",
    "        # Limit resonance peaking\n",
    "        y[n] = w[4]\n",
    "\n",
    "    return y"
   ]
  },
  {
   "cell_type": "markdown",
   "metadata": {},
   "source": [
    "## Parameter sweeps"
   ]
  },
  {
   "cell_type": "code",
   "execution_count": 5,
   "metadata": {},
   "outputs": [
    {
     "data": {
      "image/png": "[encoded data removed]",
      "text/plain": [
       "<Figure size 432x288 with 1 Axes>"
      ]
     },
     "metadata": {
      "needs_background": "light"
     },
     "output_type": "display_data"
    }
   ],
   "source": [
    "cutoffs = [0, 20, 40, 60, 80, 100, 127]\n",
    "resonances = [127]\n",
    "for cutoff in cutoffs:\n",
    "    for res in resonances:\n",
    "        \n",
    "        f, H = frequency_response(vcf, cutoff, res)\n",
    "        plt.semilogx(f, 20*np.ma.log10(abs(H)), linewidth=4, alpha=0.5, label=\"{:d}, {:d}\".format(cutoff, res))\n",
    "        \n",
    "        f, H = frequency_response(cy_vcf, cutoff, res)\n",
    "        plt.semilogx(f, 20*np.ma.log10(abs(H)), color=\"k\", linewidth=1, alpha=0.5)\n",
    "decorate_frequency_response();"
   ]
  },
  {
   "cell_type": "markdown",
   "metadata": {},
   "source": [
    "## Profiling"
   ]
  },
  {
   "cell_type": "code",
   "execution_count": 6,
   "metadata": {},
   "outputs": [
    {
     "name": "stdout",
     "output_type": "stream",
     "text": [
      "25.3 ms ± 526 µs per loop (mean ± std. dev. of 3 runs, 3 loops each)\n",
      "14.1 ms ± 354 µs per loop (mean ± std. dev. of 3 runs, 3 loops each)\n",
      "23.1 ms ± 90.7 µs per loop (mean ± std. dev. of 3 runs, 3 loops each)\n"
     ]
    }
   ],
   "source": [
    "x = get_chirp()\n",
    "%timeit -r3 -n3 vcf(x, len(x), 63, 63)\n",
    "%timeit -r3 -n3 f_vcf(x, len(x), 63, 63)\n",
    "%timeit -r3 -n3 cy_vcf(x, len(x), 63, 63)"
   ]
  },
  {
   "cell_type": "markdown",
   "metadata": {},
   "source": [
    "## Mapping cutoff and resonance as integers\n",
    "\n",
    "In the filter structure, the midi parameters (0-127) are mapped to the internal parameters:\n",
    "\n",
    "- `g` = Cutoff frequency (squared mapping from around 0.02 to 0.8)\n",
    "- `k` = Resonance (linear mapping from around 0.5 to 3.5)\n",
    "\n",
    "Calculations may be speeded up internally by using integer representations."
   ]
  },
  {
   "cell_type": "code",
   "execution_count": 7,
   "metadata": {},
   "outputs": [
    {
     "name": "stdout",
     "output_type": "stream",
     "text": [
      "[81, 82, 82, 83, 85, 86, 89, 91, 94, 97, 101, 105, 110, 115, 120, 126,\n",
      "132, 139, 146, 153, 161, 169, 177, 186, 196, 205, 215, 226, 237, 248,\n",
      "260, 272, 284, 297, 310, 324, 338, 353, 367, 383, 398, 414, 431, 448,\n",
      "465, 483, 501, 519, 538, 557, 577, 597, 617, 638, 659, 681, 703, 725,\n",
      "748, 771, 795, 818, 843, 868, 893, 918, 944, 971, 997, 1024, 1052,\n",
      "1080, 1108, 1137, 1166, 1196, 1226, 1256, 1287, 1318, 1349, 1381,\n",
      "1413, 1446, 1479, 1513, 1546, 1581, 1615, 1650, 1686, 1722, 1758,\n",
      "1795, 1832, 1869, 1907, 1945, 1984, 2023, 2062, 2102, 2142, 2183,\n",
      "2224, 2265, 2307, 2349, 2392, 2435, 2478, 2522, 2566, 2611, 2656,\n",
      "2701, 2747, 2793, 2840, 2886, 2934, 2982, 3030, 3078, 3127, 3176,\n",
      "3226, 3276]\n",
      "[2048, 2144, 2241, 2338, 2435, 2531, 2628, 2725, 2822, 2918, 3015,\n",
      "3112, 3209, 3305, 3402, 3499, 3596, 3692, 3789, 3886, 3983, 4079,\n",
      "4176, 4273, 4370, 4466, 4563, 4660, 4757, 4853, 4950, 5047, 5144,\n",
      "5240, 5337, 5434, 5531, 5627, 5724, 5821, 5918, 6014, 6111, 6208,\n",
      "6305, 6402, 6498, 6595, 6692, 6789, 6885, 6982, 7079, 7176, 7272,\n",
      "7369, 7466, 7563, 7659, 7756, 7853, 7950, 8046, 8143, 8240, 8337,\n",
      "8433, 8530, 8627, 8724, 8820, 8917, 9014, 9111, 9207, 9304, 9401,\n",
      "9498, 9594, 9691, 9788, 9885, 9981, 10078, 10175, 10272, 10369, 10465,\n",
      "10562, 10659, 10756, 10852, 10949, 11046, 11143, 11239, 11336, 11433,\n",
      "11530, 11626, 11723, 11820, 11917, 12013, 12110, 12207, 12304, 12400,\n",
      "12497, 12594, 12691, 12787, 12884, 12981, 13078, 13174, 13271, 13368,\n",
      "13465, 13561, 13658, 13755, 13852, 13948, 14045, 14142, 14239, 14336]\n"
     ]
    }
   ],
   "source": [
    "print(\"\\n\".join(textwrap.wrap(\"{}\".format([int(np.floor(2**12*map_cutoff(X))) for X in range(128)]))))\n",
    "print(\"\\n\".join(textwrap.wrap(\"{}\".format([int(np.floor(2**12*map_resonance(X))) for X in range(128)]))))"
   ]
  },
  {
   "cell_type": "code",
   "execution_count": null,
   "metadata": {},
   "outputs": [],
   "source": []
  },
  {
   "cell_type": "code",
   "execution_count": null,
   "metadata": {},
   "outputs": [],
   "source": []
  }
 ],
 "metadata": {
  "kernelspec": {
   "display_name": "Python 3",
   "language": "python",
   "name": "python3"
  },
  "language_info": {
   "codemirror_mode": {
    "name": "ipython",
    "version": 3
   },
   "file_extension": ".py",
   "mimetype": "text/x-python",
   "name": "python",
   "nbconvert_exporter": "python",
   "pygments_lexer": "ipython3",
   "version": "3.6.8"
  }
 },
 "nbformat": 4,
 "nbformat_minor": 2
}
