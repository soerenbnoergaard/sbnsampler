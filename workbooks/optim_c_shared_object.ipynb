{
 "cells": [
  {
   "cell_type": "markdown",
   "metadata": {},
   "source": [
    "## Running C code from Jupyter"
   ]
  },
  {
   "cell_type": "code",
   "execution_count": 3,
   "metadata": {},
   "outputs": [],
   "source": [
    "import os\n",
    "from ctypes import *"
   ]
  },
  {
   "cell_type": "code",
   "execution_count": 4,
   "metadata": {},
   "outputs": [],
   "source": [
    "# Shared object that can be unloaded\n",
    "# WARNING: OS dependent! (written for Linux)\n",
    "class SharedObjectInterface(object):\n",
    "    # https://stackoverflow.com/questions/359498/how-can-i-unload-a-dll-using-ctypes-in-python\n",
    "    \n",
    "    def __init__(self, path):\n",
    "        self.path = path\n",
    "        self.lib = CDLL(path)\n",
    "    \n",
    "    def close(self):\n",
    "        while self._is_loaded():\n",
    "            self._dlclose()\n",
    "        \n",
    "    def _is_loaded(self):\n",
    "        libp = os.path.abspath(self.path)\n",
    "        ret = os.system(\"lsof -p %d | grep %s > /dev/null\" % (os.getpid(), libp))\n",
    "        return (ret == 0)\n",
    "\n",
    "    def _dlclose(self):\n",
    "        libdl = CDLL(\"libdl.so\")\n",
    "        libdl.dlclose(self.lib._handle)\n"
   ]
  },
  {
   "cell_type": "code",
   "execution_count": 5,
   "metadata": {},
   "outputs": [
    {
     "name": "stdout",
     "output_type": "stream",
     "text": [
      "Overwriting vcf.c\n"
     ]
    }
   ],
   "source": [
    "%%writefile vcf.c\n",
    "#include <stdint.h>\n",
    "\n",
    "/*\n",
    "def nb_onepole(x, g, x1, y1):\n",
    "    v = 1/1.3 * x + 0.3/1.3*x1\n",
    "    y = (v-y1)*g + y1\n",
    "    return y\n",
    "*/\n",
    "static float onepole(float x, float g, float x1, float y1)\n",
    "{\n",
    "    float v = 1.0/1.3 * x + 0.3/1.3*x1;\n",
    "    return (v-y1)*g + y1;\n",
    "}\n",
    "\n",
    "/*\n",
    "def nb_vcf_linear(x, g, k):\n",
    "    # Onepole delay points:\n",
    "    # - Before op1\n",
    "    # - After opN for N in 1...4\n",
    "    y = [0]*len(x)\n",
    "    w = [0, 0, 0, 0, 0] # Current sample\n",
    "    d = [0, 0, 0, 0, 0] # Delayed sample\n",
    "    \n",
    "    # Feedback gain compensation form Valimaki\n",
    "    G_comp = 0.5\n",
    "\n",
    "    for n in range(1, len(y)):     \n",
    "        x_ = x[n]\n",
    "        w[0] = x_ - (d[4]*k - G_comp*x_)\n",
    "        w[1] = nb_onepole(w[0], g, d[0], d[1])\n",
    "        w[2] = nb_onepole(w[1], g, d[1], d[2])\n",
    "        w[3] = nb_onepole(w[2], g, d[2], d[3])\n",
    "        w[4] = nb_onepole(w[3], g, d[3], d[4])\n",
    "\n",
    "        for i in range(5):\n",
    "            d[i] = w[i]\n",
    "\n",
    "        # Limit resonance peaking\n",
    "        y[n] = 1/8 * w[4]\n",
    "\n",
    "    return y\n",
    "*/\n",
    "void vcf(float *x, float *y, int32_t length, float g, float k)\n",
    "{\n",
    "    int n, i;\n",
    "    float x_;\n",
    "    float w[5] = {0, 0, 0, 0, 0}; // Current sample\n",
    "    float d[5] = {0, 0, 0, 0, 0}; // Delayed sample\n",
    "    float G_comp = 0.5;\n",
    "    \n",
    "    for (n = 0; n < length; n++) {\n",
    "        // Limit resonance peaks\n",
    "        x_ = x[n];\n",
    "        w[0] = x_ - (d[4]*k - G_comp*x_);\n",
    "        w[1] = onepole(w[0], g, d[0], d[1]);\n",
    "        w[2] = onepole(w[1], g, d[1], d[2]);\n",
    "        w[3] = onepole(w[2], g, d[2], d[3]);\n",
    "        w[4] = onepole(w[3], g, d[3], d[4]);\n",
    "        \n",
    "        for (i = 0; i < 5; i++) {\n",
    "            d[i] = w[1];\n",
    "        }\n",
    "        \n",
    "        y[n] = w[4];\n",
    "    }\n",
    "}"
   ]
  },
  {
   "cell_type": "code",
   "execution_count": 6,
   "metadata": {},
   "outputs": [],
   "source": [
    "! gcc -shared -Wall -o vcf.so -fPIC vcf.c"
   ]
  },
  {
   "cell_type": "code",
   "execution_count": 9,
   "metadata": {},
   "outputs": [],
   "source": [
    "class VcfInterface(SharedObjectInterface):\n",
    "    def __init__(self, path):\n",
    "        super().__init__(path)\n",
    "        self.vcf_ = self.lib.vcf\n",
    "        self.vcf_.argtypes = [c_void_p, c_void_p]\n",
    "        \n",
    "    def vcf(self, x, g, k):\n",
    "        x_ = (c_float*len(x))(*x)\n",
    "        y_ = (c_float*len(x))()\n",
    "        self.vcf_(byref(x_), byref(y_), len(x_), c_float(g), c_float(k))\n",
    "        return [X for X in y_]\n",
    "\n",
    "try:\n",
    "    c_vcf_so.close()\n",
    "finally:\n",
    "    c_vcf_so = VcfInterface(\"./vcf.so\")\n",
    "\n",
    "\n",
    "       "
   ]
  },
  {
   "cell_type": "code",
   "execution_count": 12,
   "metadata": {},
   "outputs": [],
   "source": [
    "x = list(range(1000))\n",
    "y = c_vcf_so.vcf(x, 0.5, 2.0)"
   ]
  },
  {
   "cell_type": "code",
   "execution_count": null,
   "metadata": {},
   "outputs": [],
   "source": []
  },
  {
   "cell_type": "code",
   "execution_count": null,
   "metadata": {},
   "outputs": [],
   "source": []
  }
 ],
 "metadata": {
  "kernelspec": {
   "display_name": "Python 3",
   "language": "python",
   "name": "python3"
  },
  "language_info": {
   "codemirror_mode": {
    "name": "ipython",
    "version": 3
   },
   "file_extension": ".py",
   "mimetype": "text/x-python",
   "name": "python",
   "nbconvert_exporter": "python",
   "pygments_lexer": "ipython3",
   "version": "3.6.8"
  }
 },
 "nbformat": 4,
 "nbformat_minor": 2
}
