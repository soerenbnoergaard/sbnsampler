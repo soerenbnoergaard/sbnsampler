{
 "cells": [
  {
   "cell_type": "markdown",
   "metadata": {},
   "source": [
    "# VCF - Parametric low-pass filter\n",
    "\n",
    "A low pass filter where the following parameters are independently controllable:\n",
    "\n",
    "- Cutoff frequency\n",
    "- Resonance\n",
    "\n",
    "References:\n",
    "\n",
    "- [Speed Up your Algorithms Part 2— Numba](https://towardsdatascience.com/speed-up-your-algorithms-part-2-numba-293e554c5cc1)\n",
    "- [Using fortran from python](http://arogozhnikov.github.io/2015/11/29/using-fortran-from-python.html)"
   ]
  },
  {
   "cell_type": "code",
   "execution_count": 1,
   "metadata": {},
   "outputs": [
    {
     "name": "stderr",
     "output_type": "stream",
     "text": [
      "/home/soren/.local/lib/python3.6/site-packages/fortranmagic.py:147: UserWarning: get_ipython_cache_dir has moved to the IPython.paths module since IPython 4.0.\n",
      "  self._lib_dir = os.path.join(get_ipython_cache_dir(), 'fortran')\n"
     ]
    },
    {
     "data": {
      "application/javascript": [
       "new Promise(function(resolve, reject) {\n",
       "\tvar script = document.createElement(\"script\");\n",
       "\tscript.onload = resolve;\n",
       "\tscript.onerror = reject;\n",
       "\tscript.src = \"https://raw.github.com/marijnh/CodeMirror/master/mode/fortran/fortran.js\";\n",
       "\tdocument.head.appendChild(script);\n",
       "}).then(() => {\n",
       "IPython.config.cell_magic_highlight['magic_fortran'] = {'reg':[/^%%fortran/]};\n",
       "});"
      ]
     },
     "metadata": {},
     "output_type": "display_data"
    }
   ],
   "source": [
    "from numpy import *\n",
    "from matplotlib.pyplot import *\n",
    "from scipy import signal\n",
    "import scipy.io.wavfile\n",
    "from numba import jit\n",
    "\n",
    "%load_ext line_profiler\n",
    "%load_ext fortranmagic"
   ]
  },
  {
   "cell_type": "code",
   "execution_count": 2,
   "metadata": {},
   "outputs": [],
   "source": [
    "class Simulator(object):\n",
    "    def __init__(self, amplitude=2**15-1, yrange=[-50, 10]):\n",
    "        self.amplitude = amplitude\n",
    "        self.yrange = yrange\n",
    "        \n",
    "        self.fig, self.ax1 = subplots(1, 1, figsize=[8, 4])\n",
    "        \n",
    "        # Load/generate data files\n",
    "        self.sample_rate_Hz = 44100\n",
    "        fs, x = scipy.io.wavfile.read(\"../app/sound/prbs20.wav\")\n",
    "        assert(fs == self.sample_rate_Hz)\n",
    "        self.x_prbs20 = self.amplitude * x/(2**15)\n",
    "        \n",
    "        t = arange(len(self.x_prbs20)) / self.sample_rate_Hz\n",
    "        self.x_chirp = self.amplitude * signal.chirp(t, f0=20, f1=20e3, t1=max(t), method=\"linear\")\n",
    "    \n",
    "    def vcf(self, x, cutoff, resonance):\n",
    "        # Example filter\n",
    "        b, a = signal.cheby1(2, 10, 1000 * 2/self.sample_rate_Hz, btype=\"low\")\n",
    "        return signal.lfilter(b, a, x)\n",
    "    \n",
    "    def simulate_chirp(self, cutoff, resonance):\n",
    "        y = self.vcf(self.x_chirp, cutoff, resonance)\n",
    "        \n",
    "        f = linspace(20, 20e3, len(y))\n",
    "        #H = 1/self.amplitude * y\n",
    "        H = 1/self.amplitude * signal.hilbert(y)\n",
    "\n",
    "        label = \"cutoff={:.0f}, resonance={:.0f}\".format(cutoff, resonance)\n",
    "        self.plot_frequency_response(f, H, label=label)\n",
    "        return \n",
    "    \n",
    "    def simulate_prbs(self, cutoff, resonance, h_length=None):\n",
    "        x = self.x_prbs20\n",
    "        y = self.vcf(x, cutoff, resonance)\n",
    "        \n",
    "        if h_length is None:\n",
    "            h_length = int(30/cutoff)\n",
    "\n",
    "        t, h, f, H = self.analyze_prbs(x, y, h_length)\n",
    "        label = \"cutoff={:.0f}, resonance={:.0f}\".format(cutoff, resonance)\n",
    "        self.plot_frequency_response(f, H, label=label)\n",
    "    \n",
    "    def analyze_prbs(self, x, y, h_length):\n",
    "        # Estimate impulse response using a pseudo-random bit sequence.\n",
    "        h = signal.correlate(y, x, \"full\")\n",
    "        h = h[len(h)//2:]\n",
    "\n",
    "        # Limit the impulse response length to lower the noise\n",
    "        h = h[0:h_length]\n",
    "        t = arange(h_length)/self.sample_rate_Hz\n",
    "\n",
    "        # Estimate frequency response\n",
    "        H = fft.fft(h)\n",
    "        H = H[0:len(H)//2] \n",
    "        H /= max(abs(H))\n",
    "        f = linspace(0.01, self.sample_rate_Hz/2, len(H))\n",
    "\n",
    "        return t, h, f, H\n",
    "\n",
    "    def plot_frequency_response(self, f, H, label=None):\n",
    "        self.ax1.semilogx(f, 20*ma.log10(abs(H)), label=label)\n",
    "\n",
    "    def show(self):\n",
    "        # Frequency response graph\n",
    "        self.ax1.grid(True, \"both\", \"both\")\n",
    "        self.ax1.legend()\n",
    "        self.ax1.set_xlim(20, 20e3)\n",
    "        self.ax1.set_ylim(*self.yrange)\n",
    "        \n",
    "        self.fig.tight_layout()\n",
    "        #self.fig.show()\n"
   ]
  },
  {
   "cell_type": "markdown",
   "metadata": {},
   "source": [
    "## Stilson and Smith 1996 Analyzing the Moog VCF with Considerations for Digital Implementation\n",
    "\n",
    "Non-saturating filter with decoupled cutoff and resonance. Note that high resonances are not dampened and may cause overflow.\n",
    "\n",
    "- Referred to in Valimaki 2006 Oscillator and Filter Algorithms for Virtual Analog Synthesis page 26.\n",
    "- Here, a block diagram of the compromise onepole is shown."
   ]
  },
  {
   "cell_type": "code",
   "execution_count": 3,
   "metadata": {},
   "outputs": [],
   "source": [
    "class StilsonSmithCompromise(Simulator):\n",
    "    def map_cutoff(self, value):\n",
    "        assert(0 <= value <= 127)\n",
    "        b = 0.02\n",
    "        a = (0.8-b) / (127*127)\n",
    "        return a*value*value + b\n",
    "\n",
    "    def map_resonance(self, value):\n",
    "        assert(0 <= value <= 127)\n",
    "        b = 0.5\n",
    "        a = (3.9-b) / 127\n",
    "        return a*value + b\n",
    "    \n",
    "    def onepole(self, x, g, x1, y1):\n",
    "        # Input -> summation point\n",
    "        v = 1/1.3 * x + 0.3/1.3*x1\n",
    "        \n",
    "        # Summation point -> output\n",
    "        y = (v-y1)*g + y1\n",
    "        \n",
    "        # Delay lines\n",
    "        return y\n",
    "\n",
    "    def vcf(self, x, cutoff, resonance):\n",
    "        y = zeros(len(x))\n",
    "        g = self.map_cutoff(cutoff)\n",
    "        k = self.map_resonance(resonance)\n",
    "\n",
    "        # Onepole delay points:\n",
    "        # - Before op1\n",
    "        # - After opN for N in 1...4\n",
    "        w = [0, 0, 0, 0, 0] # Current sample\n",
    "        d = [0, 0, 0, 0, 0] # Delayed sample\n",
    "\n",
    "        for n in range(1, len(y)):\n",
    "            w[0] = x[n] - d[4]*k\n",
    "            w[1] = self.onepole(w[0], g, d[0], d[1])\n",
    "            w[2] = self.onepole(w[1], g, d[1], d[2])\n",
    "            w[3] = self.onepole(w[2], g, d[2], d[3])\n",
    "            w[4] = self.onepole(w[3], g, d[3], d[4])\n",
    "            \n",
    "            for i in range(5):\n",
    "                d[i] = w[i]\n",
    "            \n",
    "            y[n] = w[4]\n",
    "            \n",
    "        return y"
   ]
  },
  {
   "cell_type": "markdown",
   "metadata": {},
   "source": [
    "## Optimizing speed of Stilson-Smith with Fortran\n",
    "\n",
    "- http://arogozhnikov.github.io/2015/11/29/using-fortran-from-python.html"
   ]
  },
  {
   "cell_type": "code",
   "execution_count": 4,
   "metadata": {},
   "outputs": [
    {
     "name": "stdout",
     "output_type": "stream",
     "text": [
      "\n",
      "Ok. The following fortran objects are ready to use: f_onepole, f_vcf\n"
     ]
    }
   ],
   "source": [
    "%%fortran -v\n",
    "\n",
    "real function f_onepole(x, g, x1, y1)\n",
    "    implicit none\n",
    "    real, intent(in) :: x, g, x1, y1\n",
    "    real :: v\n",
    "\n",
    "    v = 1/1.3 * x + 0.3/1.3*x1\n",
    "    f_onepole = (v-y1)*g + y1\n",
    "end function\n",
    "\n",
    "subroutine f_vcf(x, g, k, y)\n",
    "    real, intent(in) :: x(:), g, k\n",
    "    real, intent(out) :: y(size(x))\n",
    "    real :: w(5), d(5)\n",
    "    integer :: n\n",
    "            \n",
    "    w(:) = (/0, 0, 0, 0, 0/)\n",
    "    d(:) = (/0, 0, 0, 0, 0/)\n",
    "    \n",
    "    do n = 1, size(x)\n",
    "        w(1) = x(n) - d(5)*k\n",
    "        w(2) = f_onepole(w(1), g, d(1), d(2))\n",
    "        w(3) = f_onepole(w(2), g, d(2), d(3))\n",
    "        w(4) = f_onepole(w(3), g, d(3), d(4))\n",
    "        w(5) = f_onepole(w(4), g, d(4), d(5))\n",
    "        \n",
    "        d(:) = w(:)\n",
    "        y(n) = w(5)\n",
    "    end do\n",
    "end subroutine"
   ]
  },
  {
   "cell_type": "code",
   "execution_count": 5,
   "metadata": {},
   "outputs": [],
   "source": [
    "class StilsonSmithCompromiseFortran(StilsonSmithCompromise):\n",
    "    def onepole(self, x, g, x1, y1):\n",
    "        y = f_onepole(x, g, x1, y1)\n",
    "        return y\n",
    "    \n",
    "    def vcf(self, x, cutoff, resonance):\n",
    "        #y = super().vcf(x, cutoff, resonance)\n",
    "        g = self.map_cutoff(cutoff)\n",
    "        k = self.map_resonance(resonance)\n",
    "        y = f_vcf(x, g, k)\n",
    "        return y"
   ]
  },
  {
   "cell_type": "markdown",
   "metadata": {},
   "source": [
    "## Optimizing speed of Stilson-Smith with Numba"
   ]
  },
  {
   "cell_type": "code",
   "execution_count": 6,
   "metadata": {},
   "outputs": [],
   "source": [
    "@jit\n",
    "def nba_onepole(x, g, x1, y1):\n",
    "    v = 1/1.3 * x + 0.3/1.3*x1\n",
    "    y = (v-y1)*g + y1\n",
    "    return y\n",
    "\n",
    "@jit\n",
    "def nba_vcf(x, g, k):\n",
    "    # Onepole delay points:\n",
    "    # - Before op1\n",
    "    # - After opN for N in 1...4\n",
    "    y = [0]*len(x)\n",
    "    w = [0, 0, 0, 0, 0] # Current sample\n",
    "    d = [0, 0, 0, 0, 0] # Delayed sample\n",
    "\n",
    "    for n in range(1, len(y)):\n",
    "        w[0] = x[n] - d[4]*k\n",
    "        w[1] = nba_onepole(w[0], g, d[0], d[1])\n",
    "        w[2] = nba_onepole(w[1], g, d[1], d[2])\n",
    "        w[3] = nba_onepole(w[2], g, d[2], d[3])\n",
    "        w[4] = nba_onepole(w[3], g, d[3], d[4])\n",
    "\n",
    "        for i in range(5):\n",
    "            d[i] = w[i]\n",
    "\n",
    "        y[n] = w[4]\n",
    "\n",
    "    return y\n",
    "\n",
    "class StilsonSmithCompromiseNumba(StilsonSmithCompromise):\n",
    "    def onepole(self, x, g, x1, y1):\n",
    "        y = nba_onepole(x, g, x1, y1)\n",
    "        return y\n",
    "    \n",
    "    def vcf(self, x, cutoff, resonance):\n",
    "        g = self.map_cutoff(cutoff)\n",
    "        k = self.map_resonance(resonance)\n",
    "        y = nba_vcf(x, g, k)\n",
    "        return y"
   ]
  },
  {
   "cell_type": "markdown",
   "metadata": {},
   "source": [
    "## Profiling"
   ]
  },
  {
   "cell_type": "code",
   "execution_count": 7,
   "metadata": {},
   "outputs": [
    {
     "data": {
      "image/png": "[encoded data removed]",
      "text/plain": [
       "<Figure size 576x288 with 1 Axes>"
      ]
     },
     "metadata": {
      "needs_background": "light"
     },
     "output_type": "display_data"
    },
    {
     "data": {
      "text/plain": [
       "Timer unit: 1e-06 s\n",
       "\n",
       "Total time: 16.9526 s\n",
       "File: <ipython-input-3-ccfe9bf35bd0>\n",
       "Function: vcf at line 24\n",
       "\n",
       "Line #      Hits         Time  Per Hit   % Time  Line Contents\n",
       "==============================================================\n",
       "    24                                               def vcf(self, x, cutoff, resonance):\n",
       "    25         1        433.0    433.0      0.0          y = zeros(len(x))\n",
       "    26         1         13.0     13.0      0.0          g = self.map_cutoff(cutoff)\n",
       "    27         1          3.0      3.0      0.0          k = self.map_resonance(resonance)\n",
       "    28                                           \n",
       "    29                                                   # Onepole delay points:\n",
       "    30                                                   # - Before op1\n",
       "    31                                                   # - After opN for N in 1...4\n",
       "    32         1          1.0      1.0      0.0          w = [0, 0, 0, 0, 0] # Current sample\n",
       "    33         1          0.0      0.0      0.0          d = [0, 0, 0, 0, 0] # Delayed sample\n",
       "    34                                           \n",
       "    35   1048575     543918.0      0.5      3.2          for n in range(1, len(y)):\n",
       "    36   1048574     964482.0      0.9      5.7              w[0] = x[n] - d[4]*k\n",
       "    37   1048574    2216510.0      2.1     13.1              w[1] = self.onepole(w[0], g, d[0], d[1])\n",
       "    38   1048574    2174837.0      2.1     12.8              w[2] = self.onepole(w[1], g, d[1], d[2])\n",
       "    39   1048574    2150562.0      2.1     12.7              w[3] = self.onepole(w[2], g, d[2], d[3])\n",
       "    40   1048574    2144328.0      2.0     12.6              w[4] = self.onepole(w[3], g, d[3], d[4])\n",
       "    41                                                       \n",
       "    42   6291444    3341636.0      0.5     19.7              for i in range(5):\n",
       "    43   5242870    2768065.0      0.5     16.3                  d[i] = w[i]\n",
       "    44                                                       \n",
       "    45   1048574     647848.0      0.6      3.8              y[n] = w[4]\n",
       "    46                                                       \n",
       "    47         1          0.0      0.0      0.0          return y"
      ]
     },
     "metadata": {},
     "output_type": "display_data"
    }
   ],
   "source": [
    "s = StilsonSmithCompromise(yrange=[-50, 30])\n",
    "%lprun -f s.vcf s.simulate_chirp(63, 63)\n",
    "s.show()"
   ]
  },
  {
   "cell_type": "code",
   "execution_count": 8,
   "metadata": {},
   "outputs": [
    {
     "data": {
      "image/png": "[encoded data removed]",
      "text/plain": [
       "<Figure size 576x288 with 1 Axes>"
      ]
     },
     "metadata": {
      "needs_background": "light"
     },
     "output_type": "display_data"
    },
    {
     "data": {
      "text/plain": [
       "Timer unit: 1e-06 s\n",
       "\n",
       "Total time: 0.053544 s\n",
       "File: <ipython-input-5-7a5012b75b3d>\n",
       "Function: vcf at line 6\n",
       "\n",
       "Line #      Hits         Time  Per Hit   % Time  Line Contents\n",
       "==============================================================\n",
       "     6                                               def vcf(self, x, cutoff, resonance):\n",
       "     7                                                   #y = super().vcf(x, cutoff, resonance)\n",
       "     8         1          7.0      7.0      0.0          g = self.map_cutoff(cutoff)\n",
       "     9         1          3.0      3.0      0.0          k = self.map_resonance(resonance)\n",
       "    10         1      53532.0  53532.0    100.0          y = f_vcf(x, g, k)\n",
       "    11         1          2.0      2.0      0.0          return y"
      ]
     },
     "metadata": {},
     "output_type": "display_data"
    }
   ],
   "source": [
    "s = StilsonSmithCompromiseFortran(yrange=[-50, 30])\n",
    "%lprun -f s.vcf s.simulate_chirp(63, 63)\n",
    "s.show()"
   ]
  },
  {
   "cell_type": "code",
   "execution_count": 9,
   "metadata": {},
   "outputs": [
    {
     "data": {
      "image/png": "[encoded data removed]",
      "text/plain": [
       "<Figure size 576x288 with 1 Axes>"
      ]
     },
     "metadata": {
      "needs_background": "light"
     },
     "output_type": "display_data"
    },
    {
     "data": {
      "text/plain": [
       "Timer unit: 1e-06 s\n",
       "\n",
       "Total time: 0.893643 s\n",
       "File: <ipython-input-6-d81952e7c476>\n",
       "Function: vcf at line 35\n",
       "\n",
       "Line #      Hits         Time  Per Hit   % Time  Line Contents\n",
       "==============================================================\n",
       "    35                                               def vcf(self, x, cutoff, resonance):\n",
       "    36         1          8.0      8.0      0.0          g = self.map_cutoff(cutoff)\n",
       "    37         1          3.0      3.0      0.0          k = self.map_resonance(resonance)\n",
       "    38         1     893630.0 893630.0    100.0          y = nba_vcf(x, g, k)\n",
       "    39         1          2.0      2.0      0.0          return y"
      ]
     },
     "metadata": {},
     "output_type": "display_data"
    }
   ],
   "source": [
    "s = StilsonSmithCompromiseNumba(yrange=[-50, 30])\n",
    "%lprun -f s.vcf s.simulate_chirp(63, 63)\n",
    "s.show()"
   ]
  },
  {
   "cell_type": "markdown",
   "metadata": {},
   "source": [
    "## Timing comparison"
   ]
  },
  {
   "cell_type": "code",
   "execution_count": 10,
   "metadata": {},
   "outputs": [
    {
     "name": "stdout",
     "output_type": "stream",
     "text": [
      "Python:\n",
      "3.94 s ± 82.6 ms per loop (mean ± std. dev. of 3 runs, 1 loop each)\n"
     ]
    }
   ],
   "source": [
    "s = StilsonSmithCompromise()\n",
    "close()\n",
    "print(\"Python:\")\n",
    "%timeit -r3 -n1 s.vcf(s.x_chirp, 63, 63)"
   ]
  },
  {
   "cell_type": "code",
   "execution_count": 11,
   "metadata": {},
   "outputs": [
    {
     "name": "stdout",
     "output_type": "stream",
     "text": [
      "Fortran:\n",
      "53.8 ms ± 817 µs per loop (mean ± std. dev. of 5 runs, 5 loops each)\n"
     ]
    }
   ],
   "source": [
    "s = StilsonSmithCompromiseFortran()\n",
    "close()\n",
    "print(\"Fortran:\")\n",
    "%timeit -r5 -n5 s.vcf(s.x_chirp, 63, 63)"
   ]
  },
  {
   "cell_type": "code",
   "execution_count": 12,
   "metadata": {},
   "outputs": [
    {
     "name": "stdout",
     "output_type": "stream",
     "text": [
      "Numba:\n",
      "96.1 ms ± 436 µs per loop (mean ± std. dev. of 5 runs, 5 loops each)\n"
     ]
    }
   ],
   "source": [
    "s = StilsonSmithCompromiseNumba()\n",
    "close()\n",
    "print(\"Numba:\")\n",
    "%timeit -r5 -n5 s.vcf(s.x_chirp, 63, 63)"
   ]
  }
 ],
 "metadata": {
  "kernelspec": {
   "display_name": "Python 3",
   "language": "python",
   "name": "python3"
  },
  "language_info": {
   "codemirror_mode": {
    "name": "ipython",
    "version": 3
   },
   "file_extension": ".py",
   "mimetype": "text/x-python",
   "name": "python",
   "nbconvert_exporter": "python",
   "pygments_lexer": "ipython3",
   "version": "3.6.8"
  }
 },
 "nbformat": 4,
 "nbformat_minor": 2
}
