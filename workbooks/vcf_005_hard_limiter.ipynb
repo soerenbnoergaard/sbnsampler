{
 "cells": [
  {
   "cell_type": "markdown",
   "metadata": {},
   "source": [
    "# VCF - Parametric low-pass filter\n",
    "\n",
    "A low pass filter where the following parameters are independently controllable:\n",
    "\n",
    "- Cutoff frequency\n",
    "- Resonance"
   ]
  },
  {
   "cell_type": "code",
   "execution_count": 8,
   "metadata": {},
   "outputs": [
    {
     "name": "stdout",
     "output_type": "stream",
     "text": [
      "The line_profiler extension is already loaded. To reload it, use:\n",
      "  %reload_ext line_profiler\n",
      "The fortranmagic extension is already loaded. To reload it, use:\n",
      "  %reload_ext fortranmagic\n"
     ]
    }
   ],
   "source": [
    "from numpy import *\n",
    "from matplotlib.pyplot import *\n",
    "from scipy import signal\n",
    "import scipy.io.wavfile\n",
    "\n",
    "%load_ext line_profiler\n",
    "%load_ext fortranmagic"
   ]
  },
  {
   "cell_type": "code",
   "execution_count": 9,
   "metadata": {},
   "outputs": [],
   "source": [
    "class Simulator(object):\n",
    "    def __init__(self, amplitude=2**15-1, yrange=[-50, 10]):\n",
    "        self.amplitude = amplitude\n",
    "        self.yrange = yrange\n",
    "        \n",
    "        self.fig, self.ax1 = subplots(1, 1, figsize=[8, 4])\n",
    "        \n",
    "        # Load/generate data files\n",
    "        self.sample_rate_Hz = 44100\n",
    "        fs, x = scipy.io.wavfile.read(\"../app/sound/prbs20.wav\")\n",
    "        assert(fs == self.sample_rate_Hz)\n",
    "        self.x_prbs20 = self.amplitude * x/(2**15)\n",
    "        \n",
    "        t = arange(len(self.x_prbs20)) / self.sample_rate_Hz\n",
    "        self.x_chirp = self.amplitude * signal.chirp(t, f0=20, f1=20e3, t1=max(t), method=\"linear\")\n",
    "    \n",
    "    def vcf(self, x, cutoff, resonance):\n",
    "        # Example filter\n",
    "        b, a = signal.cheby1(2, 10, 1000 * 2/self.sample_rate_Hz, btype=\"low\")\n",
    "        return signal.lfilter(b, a, x)\n",
    "    \n",
    "    def simulate_chirp(self, cutoff, resonance):\n",
    "        y = self.vcf(self.x_chirp, cutoff, resonance)\n",
    "        \n",
    "        f = linspace(20, 20e3, len(y))\n",
    "        #H = 1/self.amplitude * y\n",
    "        H = 1/self.amplitude * signal.hilbert(y)\n",
    "\n",
    "        label = \"cutoff={:.0f}, resonance={:.0f}\".format(cutoff, resonance)\n",
    "        self.plot_frequency_response(f, H, label=label)\n",
    "        return \n",
    "    \n",
    "    def simulate_prbs(self, cutoff, resonance, h_length=None):\n",
    "        x = self.x_prbs20\n",
    "        y = self.vcf(x, cutoff, resonance)\n",
    "        \n",
    "        if h_length is None:\n",
    "            h_length = int(30/cutoff)\n",
    "\n",
    "        t, h, f, H = self.analyze_prbs(x, y, h_length)\n",
    "        label = \"cutoff={:.0f}, resonance={:.0f}\".format(cutoff, resonance)\n",
    "        self.plot_frequency_response(f, H, label=label)\n",
    "    \n",
    "    def analyze_prbs(self, x, y, h_length):\n",
    "        # Estimate impulse response using a pseudo-random bit sequence.\n",
    "        h = signal.correlate(y, x, \"full\")\n",
    "        h = h[len(h)//2:]\n",
    "\n",
    "        # Limit the impulse response length to lower the noise\n",
    "        h = h[0:h_length]\n",
    "        t = arange(h_length)/self.sample_rate_Hz\n",
    "\n",
    "        # Estimate frequency response\n",
    "        H = fft.fft(h)\n",
    "        H = H[0:len(H)//2] \n",
    "        H /= max(abs(H))\n",
    "        f = linspace(0.01, self.sample_rate_Hz/2, len(H))\n",
    "\n",
    "        return t, h, f, H\n",
    "\n",
    "    def plot_frequency_response(self, f, H, label=None):\n",
    "        self.ax1.semilogx(f, 20*ma.log10(abs(H)), label=label)\n",
    "\n",
    "    def show(self):\n",
    "        # Frequency response graph\n",
    "        self.ax1.grid(True, \"both\", \"both\")\n",
    "        self.ax1.legend()\n",
    "        self.ax1.set_xlim(20, 20e3)\n",
    "        self.ax1.set_ylim(*self.yrange)\n",
    "        \n",
    "        self.fig.tight_layout()\n",
    "        #self.fig.show()\n"
   ]
  },
  {
   "cell_type": "markdown",
   "metadata": {},
   "source": [
    "## Stilson and Smith 1996 Analyzing the Moog VCF with Considerations for Digital Implementation\n",
    "\n",
    "Non-saturating filter with decoupled cutoff and resonance. Note that high resonances are not dampened and may cause overflow.\n",
    "\n",
    "- Referred to in Valimaki 2006 Oscillator and Filter Algorithms for Virtual Analog Synthesis page 26.\n",
    "- Here, a block diagram of the compromise onepole is shown.\n",
    "\n",
    "Written in Fortran for speed.\n",
    "- http://arogozhnikov.github.io/2015/11/29/using-fortran-from-python.html"
   ]
  },
  {
   "cell_type": "code",
   "execution_count": 10,
   "metadata": {},
   "outputs": [
    {
     "name": "stdout",
     "output_type": "stream",
     "text": [
      "\n",
      "Ok. The following fortran objects are ready to use: stilson_smith_onepole, stilson_smith_vcf\n"
     ]
    }
   ],
   "source": [
    "%%fortran -v\n",
    "\n",
    "real function stilson_smith_onepole(x, g, x1, y1)\n",
    "    implicit none\n",
    "    real, intent(in) :: x, g, x1, y1\n",
    "    real :: v\n",
    "\n",
    "    v = 1/1.3 * x + 0.3/1.3*x1\n",
    "    stilson_smith_onepole = (v-y1)*g + y1\n",
    "end function\n",
    "\n",
    "subroutine stilson_smith_vcf(x, g, k, y)\n",
    "    real, intent(in) :: x(:), g, k\n",
    "    real, intent(out) :: y(size(x))\n",
    "    real :: w(5), d(5)\n",
    "    integer :: n\n",
    "            \n",
    "    w(:) = (/0, 0, 0, 0, 0/)\n",
    "    d(:) = (/0, 0, 0, 0, 0/)\n",
    "    \n",
    "    do n = 1, size(x)\n",
    "        w(1) = x(n) - d(5)*k\n",
    "        w(2) = stilson_smith_onepole(w(1), g, d(1), d(2))\n",
    "        w(3) = stilson_smith_onepole(w(2), g, d(2), d(3))\n",
    "        w(4) = stilson_smith_onepole(w(3), g, d(3), d(4))\n",
    "        w(5) = stilson_smith_onepole(w(4), g, d(4), d(5))\n",
    "        \n",
    "        d(:) = w(:)\n",
    "        y(n) = w(5)\n",
    "    end do\n",
    "end subroutine"
   ]
  },
  {
   "cell_type": "code",
   "execution_count": 11,
   "metadata": {},
   "outputs": [],
   "source": [
    "class StilsonSmithCompromise(Simulator):\n",
    "    def map_cutoff(self, value):\n",
    "        assert(0 <= value <= 127)\n",
    "        b = 0.02\n",
    "        a = (0.8-b) / (127*127)\n",
    "        return a*value*value + b\n",
    "\n",
    "    def map_resonance(self, value):\n",
    "        assert(0 <= value <= 127)\n",
    "        b = 0.5\n",
    "        a = (3.9-b) / 127\n",
    "        return a*value + b\n",
    "    \n",
    "    def onepole(self, x, g, x1, y1):\n",
    "        y = stilson_smith_onepole(x, g, x1, y1)\n",
    "        return y\n",
    "    \n",
    "    def vcf(self, x, cutoff, resonance):\n",
    "        g = self.map_cutoff(cutoff)\n",
    "        k = self.map_resonance(resonance)\n",
    "        y = stilson_smith_vcf(x, g, k)\n",
    "        return y"
   ]
  },
  {
   "cell_type": "code",
   "execution_count": 12,
   "metadata": {},
   "outputs": [
    {
     "data": {
      "image/png": "[encoded data removed]",
      "text/plain": [
       "<Figure size 576x288 with 1 Axes>"
      ]
     },
     "metadata": {
      "needs_background": "light"
     },
     "output_type": "display_data"
    }
   ],
   "source": [
    "s = StilsonSmithCompromise(yrange=[-50, 30])\n",
    "for res in [0, 63, 127]:\n",
    "    s.simulate_chirp(63, res)\n",
    "s.show()"
   ]
  },
  {
   "cell_type": "markdown",
   "metadata": {},
   "source": [
    "## Pirkle 2019 Designing Audio Effects Plugins in C++\n",
    "\n",
    "Non-saturating but with a hard limiter on the output.\n",
    "\n",
    "Addendum A11."
   ]
  },
  {
   "cell_type": "code",
   "execution_count": 13,
   "metadata": {},
   "outputs": [],
   "source": [
    "class Pirkle(StilsonSmithCompromise):\n",
    "    # TODO: Add a peak limiter to the output of the Stilson/Smith filter\n",
    "    pass"
   ]
  },
  {
   "cell_type": "markdown",
   "metadata": {},
   "source": [
    "## Peak limiter\n",
    "\n",
    "Lyons 2011 Understanding digital signal processing Section 13.30."
   ]
  },
  {
   "cell_type": "code",
   "execution_count": 9,
   "metadata": {},
   "outputs": [
    {
     "name": "stderr",
     "output_type": "stream",
     "text": [
      "/home/soren/.local/lib/python3.6/site-packages/ipykernel_launcher.py:10: RuntimeWarning: overflow encountered in double_scalars\n",
      "  # Remove the CWD from sys.path while we load stuff.\n"
     ]
    },
    {
     "data": {
      "image/png": "[encoded data removed]",
      "text/plain": [
       "<Figure size 576x288 with 1 Axes>"
      ]
     },
     "metadata": {
      "needs_background": "light"
     },
     "output_type": "display_data"
    }
   ],
   "source": [
    "def limiter(x, R):\n",
    "    a = 0.01\n",
    "    y = zeros(len(x))\n",
    "    \n",
    "    w1 = 1 # Delayed feedback element\n",
    "    \n",
    "    for n in range(len(x)):  \n",
    "        y[n] = x[n] * w1\n",
    "        \n",
    "        w = y[n]*y[n]\n",
    "        w = R - w\n",
    "        w = w + w1\n",
    "        w1 = w\n",
    "        \n",
    "    return y\n",
    "        \n",
    "        \n",
    "s = Pirkle(yrange=[-50, 30])\n",
    "y = s.vcf(s.x_chirp, cutoff=63, resonance=100)\n",
    "y2 = limiter(y, s.amplitude)\n",
    "#plot(y)\n",
    "#plot(limiter(y, s.amplitude))\n",
    "#axhline(s.amplitude, color=\"k\")\n",
    "#axhline(-s.amplitude, color=\"k\")"
   ]
  }
 ],
 "metadata": {
  "kernelspec": {
   "display_name": "Python 3",
   "language": "python",
   "name": "python3"
  },
  "language_info": {
   "codemirror_mode": {
    "name": "ipython",
    "version": 3
   },
   "file_extension": ".py",
   "mimetype": "text/x-python",
   "name": "python",
   "nbconvert_exporter": "python",
   "pygments_lexer": "ipython3",
   "version": "3.6.8"
  }
 },
 "nbformat": 4,
 "nbformat_minor": 2
}
