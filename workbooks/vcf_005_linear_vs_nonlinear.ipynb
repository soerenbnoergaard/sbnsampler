{
 "cells": [
  {
   "cell_type": "markdown",
   "metadata": {},
   "source": [
    "# VCF - Parametric low-pass filter\n",
    "\n",
    "A low pass filter where the following parameters are independently controllable:\n",
    "\n",
    "- Cutoff frequency\n",
    "- Resonance\n",
    "\n",
    "References:\n",
    "- Basic filter structure from Stilson and Smith 1996 Analyzing the Moog VCF with Considerations for Digital Implementation\n",
    "- Referred to in Valimaki 2006 Oscillator and Filter Algorithms for Virtual Analog Synthesis page 26."
   ]
  },
  {
   "cell_type": "code",
   "execution_count": 5,
   "metadata": {},
   "outputs": [],
   "source": [
    "from numpy import *\n",
    "from matplotlib.pyplot import *\n",
    "from scipy import signal\n",
    "import scipy.io.wavfile\n",
    "from numba import jit\n",
    "from ctypes import *\n",
    "import subprocess"
   ]
  },
  {
   "cell_type": "code",
   "execution_count": 6,
   "metadata": {},
   "outputs": [],
   "source": [
    "class Simulator(object):\n",
    "    def __init__(self, amplitude=2**15-1, yrange=[-50, 10]):\n",
    "        self.amplitude = amplitude\n",
    "        self.yrange = yrange\n",
    "        \n",
    "        self.fig, self.ax1 = subplots(1, 1, figsize=[8, 4])\n",
    "        \n",
    "        # Load/generate data files\n",
    "        self.sample_rate_Hz = 44100\n",
    "        fs, x = scipy.io.wavfile.read(\"../app/sound/prbs20.wav\")\n",
    "        assert(fs == self.sample_rate_Hz)\n",
    "        self.x_prbs20 = self.amplitude * x/(2**15)\n",
    "        \n",
    "        t = arange(len(self.x_prbs20)) / self.sample_rate_Hz\n",
    "        self.x_chirp = self.amplitude * signal.chirp(t, f0=20, f1=20e3, t1=max(t), method=\"linear\")\n",
    "    \n",
    "    def vcf(self, x, cutoff, resonance):\n",
    "        # Example filter\n",
    "        b, a = signal.cheby1(2, 10, 1000 * 2/self.sample_rate_Hz, btype=\"low\")\n",
    "        return signal.lfilter(b, a, x)\n",
    "    \n",
    "    def simulate_chirp(self, cutoff, resonance, gain=1.0):\n",
    "        y = self.vcf(gain * self.x_chirp, cutoff, resonance)\n",
    "        \n",
    "        f = linspace(20, 20e3, len(y))\n",
    "        #H = 1/self.amplitude * y\n",
    "        H = 1/self.amplitude * signal.hilbert(y)\n",
    "\n",
    "        label = \"cutoff={:.0f}, resonance={:.0f}\".format(cutoff, resonance)\n",
    "        self.plot_frequency_response(f, H, label=label)\n",
    "        return \n",
    "    \n",
    "    def simulate_prbs(self, cutoff, resonance, h_length=None):\n",
    "        x = self.x_prbs20\n",
    "        y = self.vcf(x, cutoff, resonance)\n",
    "        \n",
    "        if h_length is None:\n",
    "            h_length = int(30/cutoff)\n",
    "\n",
    "        t, h, f, H = self.analyze_prbs(x, y, h_length)\n",
    "        label = \"cutoff={:.0f}, resonance={:.0f}\".format(cutoff, resonance)\n",
    "        self.plot_frequency_response(f, H, label=label)\n",
    "    \n",
    "    def analyze_prbs(self, x, y, h_length):\n",
    "        # Estimate impulse response using a pseudo-random bit sequence.\n",
    "        h = signal.correlate(y, x, \"full\")\n",
    "        h = h[len(h)//2:]\n",
    "\n",
    "        # Limit the impulse response length to lower the noise\n",
    "        h = h[0:h_length]\n",
    "        t = arange(h_length)/self.sample_rate_Hz\n",
    "\n",
    "        # Estimate frequency response\n",
    "        H = fft.fft(h)\n",
    "        H = H[0:len(H)//2] \n",
    "        H /= max(abs(H))\n",
    "        f = linspace(0.01, self.sample_rate_Hz/2, len(H))\n",
    "\n",
    "        return t, h, f, H\n",
    "\n",
    "    def plot_frequency_response(self, f, H, label=None):\n",
    "        self.ax1.semilogx(f, 20*ma.log10(abs(H)), label=label)\n",
    "\n",
    "    def show(self):\n",
    "        # Frequency response graph\n",
    "        self.ax1.grid(True, \"both\", \"both\")\n",
    "        self.ax1.legend()\n",
    "        self.ax1.set_xlim(20, 20e3)\n",
    "        self.ax1.set_ylim(*self.yrange)\n",
    "        \n",
    "        self.fig.tight_layout()\n",
    "        #self.fig.show()\n"
   ]
  },
  {
   "cell_type": "code",
   "execution_count": 7,
   "metadata": {},
   "outputs": [],
   "source": [
    "@jit\n",
    "def nb_onepole(x, g, x1, y1):\n",
    "    v = 1/1.3 * x + 0.3/1.3*x1\n",
    "    y = (v-y1)*g + y1\n",
    "    return y\n",
    "\n",
    "@jit\n",
    "def upsample(x, N):\n",
    "    y = [0]*(len(x)*N)\n",
    "    for m in range(len(y)):\n",
    "        if (m % N) == 0:\n",
    "            y[m] = x[m//N]\n",
    "        else:\n",
    "            y[m] = 0\n",
    "    return y\n",
    "\n",
    "@jit\n",
    "def downsample(x, N):\n",
    "    y = zeros(len(x)//N)\n",
    "    for m in range(len(y)):\n",
    "        y[m] = x[m*N]\n",
    "    return y\n",
    "\n",
    "def interpolate_by_4(x):\n",
    "    N = 4\n",
    "    b = signal.firwin(24, 0.8/N)\n",
    "    return signal.lfilter(b, [1.0], upsample(x, N))\n",
    "\n",
    "def decimate_by_4(x):\n",
    "    N = 4\n",
    "    b = signal.firwin(24, 0.8/N)\n",
    "    y = signal.lfilter(b, [1.0], x)\n",
    "    return downsample(y, N)"
   ]
  },
  {
   "cell_type": "markdown",
   "metadata": {},
   "source": [
    "## Non-linear\n",
    "\n",
    "- The non-linear element compresses resonance peaks.\n",
    "- This distortion causes aliasing meaning interpolation is necessary before filtering (and decimation afterwards)."
   ]
  },
  {
   "cell_type": "code",
   "execution_count": 5,
   "metadata": {},
   "outputs": [],
   "source": [
    "@jit\n",
    "def nb_vcf_nonlinear(x, g, k):\n",
    "    # Onepole delay points:\n",
    "    # - Before op1\n",
    "    # - After opN for N in 1...4\n",
    "    y = [0]*len(x)\n",
    "    w = [0, 0, 0, 0, 0] # Current sample\n",
    "    d = [0, 0, 0, 0, 0] # Delayed sample\n",
    "    \n",
    "    # Feedback gain compensation form Valimaki\n",
    "    G_comp = 0.5\n",
    "\n",
    "    for n in range(1, len(y)):\n",
    "        x_ = x[n]\n",
    "        w[0] = x_ - (d[4]*k - G_comp*x_)\n",
    "        w[0] = 2**15 * tanh(w[0]/2**15)\n",
    "        w[1] = nb_onepole(w[0], g, d[0], d[1])\n",
    "        w[2] = nb_onepole(w[1], g, d[1], d[2])\n",
    "        w[3] = nb_onepole(w[2], g, d[2], d[3])\n",
    "        w[4] = nb_onepole(w[3], g, d[3], d[4])\n",
    "\n",
    "        for i in range(5):\n",
    "            d[i] = w[i]\n",
    "\n",
    "        y[n] = w[4]\n",
    "\n",
    "    return y\n",
    "\n",
    "class VcfNonlinear(Simulator):\n",
    "    def map_cutoff(self, value):\n",
    "        assert(0 <= value <= 127)\n",
    "        b = 0.005\n",
    "        a = (0.2-b) / (127*127)\n",
    "        return a*value*value + b\n",
    "\n",
    "    def map_resonance(self, value):\n",
    "        assert(0 <= value <= 127)\n",
    "        b = 0.5\n",
    "        a = (3.9-b) / 127\n",
    "        return a*value + b\n",
    " \n",
    "    def vcf(self, x, cutoff, resonance):\n",
    "        g = self.map_cutoff(cutoff)\n",
    "        k = self.map_resonance(resonance)\n",
    "        x = interpolate_by_4(x)\n",
    "        y = nb_vcf_nonlinear(x, g, k)\n",
    "        y = decimate_by_4(y)\n",
    "        return y"
   ]
  },
  {
   "cell_type": "code",
   "execution_count": 6,
   "metadata": {},
   "outputs": [
    {
     "data": {
      "image/png": "[encoded data removed]",
      "text/plain": [
       "<Figure size 576x288 with 1 Axes>"
      ]
     },
     "metadata": {
      "needs_background": "light"
     },
     "output_type": "display_data"
    }
   ],
   "source": [
    "s = VcfNonlinear(yrange=[-90, 10])\n",
    "cutoffs = [63]\n",
    "resonances = [127]\n",
    "for cutoff in cutoffs:\n",
    "    for res in resonances:\n",
    "        s.simulate_chirp(cutoff, res, gain=1)\n",
    "        \n",
    "s.show()"
   ]
  },
  {
   "cell_type": "markdown",
   "metadata": {},
   "source": [
    "## Linear\n",
    "\n",
    "No non-linear element included.\n",
    "\n",
    "- No need to compute tanh nor interpolate, so it should be faster.\n",
    "- Resonance peaks might cause clipping and must be limited manually."
   ]
  },
  {
   "cell_type": "code",
   "execution_count": 8,
   "metadata": {},
   "outputs": [],
   "source": [
    "@jit\n",
    "def nb_vcf_linear(x, g, k):\n",
    "    # Onepole delay points:\n",
    "    # - Before op1\n",
    "    # - After opN for N in 1...4\n",
    "    y = [0]*len(x)\n",
    "    w = [0, 0, 0, 0, 0] # Current sample\n",
    "    d = [0, 0, 0, 0, 0] # Delayed sample\n",
    "    \n",
    "    # Feedback gain compensation form Valimaki\n",
    "    G_comp = 0.5\n",
    "\n",
    "    for n in range(1, len(y)):     \n",
    "        x_ = x[n]\n",
    "        w[0] = x_ - (d[4]*k - G_comp*x_)\n",
    "        w[1] = nb_onepole(w[0], g, d[0], d[1])\n",
    "        w[2] = nb_onepole(w[1], g, d[1], d[2])\n",
    "        w[3] = nb_onepole(w[2], g, d[2], d[3])\n",
    "        w[4] = nb_onepole(w[3], g, d[3], d[4])\n",
    "\n",
    "        for i in range(5):\n",
    "            d[i] = w[i]\n",
    "\n",
    "        # Limit resonance peaking\n",
    "        y[n] = 1/8 * w[4]\n",
    "\n",
    "    return y\n",
    "\n",
    "class VcfLinear(Simulator):\n",
    "    def map_cutoff(self, value):\n",
    "        assert(0 <= value <= 127)\n",
    "        b = 0.02\n",
    "        a = (0.8-b) / (127*127)\n",
    "        return a*value*value + b\n",
    "\n",
    "    def map_resonance(self, value):\n",
    "        assert(0 <= value <= 127)\n",
    "        b = 0.5\n",
    "        a = (3.5-b) / 127\n",
    "        return a*value + b\n",
    " \n",
    "    def vcf(self, x, cutoff, resonance):\n",
    "        g = self.map_cutoff(cutoff)\n",
    "        k = self.map_resonance(resonance)\n",
    "        y = nb_vcf_linear(x, g, k)\n",
    "        return y"
   ]
  },
  {
   "cell_type": "code",
   "execution_count": 17,
   "metadata": {},
   "outputs": [
    {
     "data": {
      "image/png": "[encoded data removed]",
      "text/plain": [
       "<Figure size 576x288 with 1 Axes>"
      ]
     },
     "metadata": {
      "needs_background": "light"
     },
     "output_type": "display_data"
    }
   ],
   "source": [
    "s = VcfLinear(yrange=[-90, 10])\n",
    "cutoffs = [20, 60, 100, 127]\n",
    "resonances = [127]\n",
    "for cutoff in cutoffs:\n",
    "    for res in resonances:\n",
    "        s.simulate_chirp(cutoff, res, gain=1)\n",
    "        \n",
    "s.show()"
   ]
  },
  {
   "cell_type": "markdown",
   "metadata": {},
   "source": [
    "## C implementation (NOTE: DLL IS NOT RELOADED UNLESS THE KERNEL RESTARTS!)"
   ]
  },
  {
   "cell_type": "code",
   "execution_count": 13,
   "metadata": {},
   "outputs": [
    {
     "name": "stdout",
     "output_type": "stream",
     "text": [
      "Overwriting vcf.c\n"
     ]
    }
   ],
   "source": [
    "%%writefile vcf.c\n",
    "#include <stdint.h>\n",
    "\n",
    "void c_vcf(int16_t *x, int16_t *y, int32_t length)\n",
    "{\n",
    "    int n;\n",
    "    for (n = 0; n < length; n++) {\n",
    "        y[n] = x[n]>>1;\n",
    "    }\n",
    "}\n"
   ]
  },
  {
   "cell_type": "code",
   "execution_count": 14,
   "metadata": {},
   "outputs": [
    {
     "data": {
      "text/plain": [
       "[]"
      ]
     },
     "execution_count": 14,
     "metadata": {},
     "output_type": "execute_result"
    }
   ],
   "source": [
    "!! gcc -shared -o vcf.so -fPIC vcf.c"
   ]
  },
  {
   "cell_type": "code",
   "execution_count": 15,
   "metadata": {},
   "outputs": [],
   "source": [
    "lib = CDLL(\"./vcf.so\")\n",
    "c_vcf_ = lib.c_vcf\n",
    "c_vcf_.argtypes = [c_void_p, c_void_p]\n",
    "def c_vcf(x):\n",
    "    x_ = (c_int16*len(x))(*x)\n",
    "    y_ = (c_int16*len(x))()\n",
    "    c_vcf_(byref(x_), byref(y_), len(x_))\n",
    "    return [X for X in y_]"
   ]
  },
  {
   "cell_type": "code",
   "execution_count": 16,
   "metadata": {},
   "outputs": [
    {
     "data": {
      "image/png": "[encoded data removed]",
      "text/plain": [
       "<Figure size 432x288 with 1 Axes>"
      ]
     },
     "metadata": {
      "needs_background": "light"
     },
     "output_type": "display_data"
    }
   ],
   "source": [
    "s = VcfLinear(yrange=[-90, 10])\n",
    "close()\n",
    "x = [int16(X) for X in s.x_chirp]\n",
    "y = c_vcf(x)\n",
    "plot(x)\n",
    "plot(y)\n",
    "grid(True)"
   ]
  },
  {
   "cell_type": "code",
   "execution_count": null,
   "metadata": {},
   "outputs": [],
   "source": []
  }
 ],
 "metadata": {
  "kernelspec": {
   "display_name": "Python 3",
   "language": "python",
   "name": "python3"
  },
  "language_info": {
   "codemirror_mode": {
    "name": "ipython",
    "version": 3
   },
   "file_extension": ".py",
   "mimetype": "text/x-python",
   "name": "python",
   "nbconvert_exporter": "python",
   "pygments_lexer": "ipython3",
   "version": "3.6.8"
  }
 },
 "nbformat": 4,
 "nbformat_minor": 2
}
