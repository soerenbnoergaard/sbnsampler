{
 "cells": [
  {
   "cell_type": "markdown",
   "metadata": {},
   "source": [
    "# Transposition ratios\n",
    "\n",
    "The polyphase filter structure used for transposition requires rational intervals. This workbook aims to determine the transposition fractions."
   ]
  },
  {
   "cell_type": "code",
   "execution_count": 69,
   "metadata": {},
   "outputs": [],
   "source": [
    "import os\n",
    "import sys\n",
    "import json\n",
    "import fractions\n",
    "import subprocess\n",
    "\n",
    "from numpy import *\n",
    "from matplotlib.pyplot import *"
   ]
  },
  {
   "cell_type": "code",
   "execution_count": 70,
   "metadata": {},
   "outputs": [],
   "source": [
    "transpose_initial = {\n",
    "    -12: 2/1,\n",
    "    -11: 15/8,\n",
    "    -10: 16/9,\n",
    "    -9: 5/3,\n",
    "    -8: 8/5,\n",
    "    -7: 3/2,\n",
    "    -6: 45/32,\n",
    "    -5: 4/3,\n",
    "    -4: 5/4,\n",
    "    -3: 6/5,\n",
    "    -2: 9/8,\n",
    "    -1: 16/15,\n",
    "    0: 1/1, # Zero-transpose offset\n",
    "    1: 15/16,\n",
    "    2: 8/9,\n",
    "    3: 5/6,\n",
    "    4: 4/5,\n",
    "    5: 3/4,\n",
    "    6: 32/45,\n",
    "    7: 2/3,\n",
    "    8: 5/8,\n",
    "    9: 3/5,\n",
    "    10: 9/16,\n",
    "    11: 8/15,\n",
    "    12: 1/2,\n",
    "}"
   ]
  },
  {
   "cell_type": "code",
   "execution_count": 71,
   "metadata": {},
   "outputs": [],
   "source": [
    "def stats(d, title):\n",
    "    print(\"\"\"\n",
    "{:s}\n",
    "\n",
    "mean = {:10.3f} cents\n",
    "std  = {:10.3f} cents\n",
    "min  = {:10.3f} cents\n",
    "max  = {:10.3f} cents\n",
    "\"\"\".format(title, mean(d), std(d), min(d), max(d)))"
   ]
  },
  {
   "cell_type": "code",
   "execution_count": 79,
   "metadata": {},
   "outputs": [
    {
     "name": "stdout",
     "output_type": "stream",
     "text": [
      "\n",
      "Initial estimate\n",
      "\n",
      "mean =     -0.067 cents\n",
      "std  =     87.552 cents\n",
      "min  =   -150.000 cents\n",
      "max  =    150.000 cents\n",
      "\n",
      "\n",
      "Updated estimate\n",
      "\n",
      "mean =     84.972 cents\n",
      "std  =    147.133 cents\n",
      "min  =   -150.000 cents\n",
      "max  =    375.000 cents\n",
      "\n"
     ]
    }
   ],
   "source": [
    "transpose = {}\n",
    "for step in range(-36, 13, 1):\n",
    "    x = 2**(step/12)\n",
    "    fr = fractions.Fraction(x).limit_denominator(64)\n",
    "    M = fr.numerator\n",
    "    L = fr.denominator\n",
    "    diff_cents = 100 * (L/M - x)\n",
    "    transpose[step] = {\n",
    "        \"actual\": x,\n",
    "        \"M\": M,\n",
    "        \"L\": L,\n",
    "        \"estimate\": L/M,\n",
    "        \"diff_cents\": diff_cents,\n",
    "    }\n",
    "\n",
    "# Initial transposition table\n",
    "d = [100*(transpose_initial[step] - transpose[step][\"actual\"]) for step in transpose_initial.keys()]\n",
    "stats(d, \"Initial estimate\")\n",
    "\n",
    "# New transposition table\n",
    "# Statistics\n",
    "d = [X[\"diff_cents\"] for X in transpose.values()]\n",
    "stats(d, \"Updated estimate\")"
   ]
  },
  {
   "cell_type": "code",
   "execution_count": 80,
   "metadata": {},
   "outputs": [
    {
     "name": "stdout",
     "output_type": "stream",
     "text": [
      "intervals = [\n",
      "    [4, 1],\n",
      "    [34, 9],\n",
      "    [57, 16],\n",
      "    [37, 11],\n",
      "    [54, 17],\n",
      "    [3, 1],\n",
      "    [17, 6],\n",
      "    [8, 3],\n",
      "    [63, 25],\n",
      "    [50, 21],\n",
      "    [56, 25],\n",
      "    [53, 25],\n",
      "    [2, 1],\n",
      "    [17, 9],\n",
      "    [57, 32],\n",
      "    [37, 22],\n",
      "    [27, 17],\n",
      "    [3, 2],\n",
      "    [58, 41],\n",
      "    [4, 3],\n",
      "    [63, 50],\n",
      "    [44, 37],\n",
      "    [55, 49],\n",
      "    [53, 50],\n",
      "    [1, 1],\n",
      "    [50, 53],\n",
      "    [49, 55],\n",
      "    [37, 44],\n",
      "    [50, 63],\n",
      "    [3, 4],\n",
      "    [29, 41],\n",
      "    [2, 3],\n",
      "    [63, 100],\n",
      "    [22, 37],\n",
      "    [55, 98],\n",
      "    [62, 117],\n",
      "    [1, 2],\n",
      "]\n"
     ]
    }
   ],
   "source": [
    "# Generate new table\n",
    "print(\"intervals = [\")\n",
    "for step in transpose.keys():\n",
    "    L = transpose[step][\"L\"]\n",
    "    M = transpose[step][\"M\"]\n",
    "    print(\"    [{:d}, {:d}],\".format(L, M))\n",
    "print(\"]\")"
   ]
  },
  {
   "cell_type": "code",
   "execution_count": null,
   "metadata": {},
   "outputs": [],
   "source": []
  },
  {
   "cell_type": "code",
   "execution_count": null,
   "metadata": {},
   "outputs": [],
   "source": []
  }
 ],
 "metadata": {
  "kernelspec": {
   "display_name": "Python 3",
   "language": "python",
   "name": "python3"
  },
  "language_info": {
   "codemirror_mode": {
    "name": "ipython",
    "version": 3
   },
   "file_extension": ".py",
   "mimetype": "text/x-python",
   "name": "python",
   "nbconvert_exporter": "python",
   "pygments_lexer": "ipython3",
   "version": "3.6.7"
  }
 },
 "nbformat": 4,
 "nbformat_minor": 2
}
