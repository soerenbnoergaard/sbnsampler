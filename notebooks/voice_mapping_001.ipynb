{
 "cells": [
  {
   "cell_type": "markdown",
   "metadata": {},
   "source": [
    "# Voice Mapping\n",
    "\n",
    "Algorighm for mapping the finite number of voices based on the incoming MIDI messages.\n",
    "\n",
    "Requirements for choosing a voice (prioritized order):\n",
    "\n",
    "1. BUSY note with same note ID.\n",
    "2. First IDLE voice.\n",
    "3. BUSY voirce with highest sample count.\n",
    "\n",
    "Voice tuples: `(state, note, sample_count)`"
   ]
  },
  {
   "cell_type": "code",
   "execution_count": 23,
   "metadata": {},
   "outputs": [],
   "source": [
    "import doctest"
   ]
  },
  {
   "cell_type": "code",
   "execution_count": 26,
   "metadata": {},
   "outputs": [],
   "source": [
    "IDLE = 0\n",
    "BUSY = 1\n",
    "\n",
    "def voice_map(voices, note):\n",
    "    \"\"\"\n",
    "    ========================\n",
    "    Choose first idle voice:\n",
    "    ========================\n",
    "    \n",
    "    >>> voice_map([(IDLE, 0, 0), (IDLE, 0, 0), (IDLE, 0, 0), (IDLE, 0, 0)], 1)\n",
    "    0\n",
    "    \n",
    "    >>> voice_map([(BUSY, 3, 0), (IDLE, 0, 0), (IDLE, 0, 0), (IDLE, 0, 0)], 1)\n",
    "    1\n",
    "    \n",
    "    \"\"\"\n",
    "    return 0"
   ]
  },
  {
   "cell_type": "code",
   "execution_count": 27,
   "metadata": {},
   "outputs": [
    {
     "name": "stdout",
     "output_type": "stream",
     "text": [
      "**********************************************************************\n",
      "File \"__main__\", line 13, in __main__.voice_map\n",
      "Failed example:\n",
      "    voice_map([(BUSY, 3, 0), (IDLE, 0, 0), (IDLE, 0, 0), (IDLE, 0, 0)], 1)\n",
      "Expected:\n",
      "    1\n",
      "Got:\n",
      "    0\n",
      "**********************************************************************\n",
      "1 items had failures:\n",
      "   1 of   2 in __main__.voice_map\n",
      "***Test Failed*** 1 failures.\n"
     ]
    },
    {
     "data": {
      "text/plain": [
       "TestResults(failed=1, attempted=2)"
      ]
     },
     "execution_count": 27,
     "metadata": {},
     "output_type": "execute_result"
    }
   ],
   "source": [
    "doctest.testmod(verbose=False)"
   ]
  },
  {
   "cell_type": "code",
   "execution_count": null,
   "metadata": {},
   "outputs": [],
   "source": []
  }
 ],
 "metadata": {
  "kernelspec": {
   "display_name": "Python 3",
   "language": "python",
   "name": "python3"
  },
  "language_info": {
   "codemirror_mode": {
    "name": "ipython",
    "version": 3
   },
   "file_extension": ".py",
   "mimetype": "text/x-python",
   "name": "python",
   "nbconvert_exporter": "python",
   "pygments_lexer": "ipython3",
   "version": "3.6.8"
  }
 },
 "nbformat": 4,
 "nbformat_minor": 2
}
