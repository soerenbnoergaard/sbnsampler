{
 "cells": [
  {
   "cell_type": "markdown",
   "metadata": {},
   "source": [
    "# Voice Mapping\n",
    "\n",
    "Algorighm for mapping the finite number of voices based on the incoming MIDI messages.\n",
    "\n",
    "There are several approaches to this:\n",
    "\n",
    "1. **Dead stop**: Once all voices are used up, no note can be played until a voice is released."
   ]
  },
  {
   "cell_type": "code",
   "execution_count": 9,
   "metadata": {},
   "outputs": [],
   "source": [
    "def f(x):\n",
    "    return 1/x\n",
    "\n",
    "def test_f():\n",
    "    assert(f(2) == 1/2)\n",
    "\n",
    "test_f()"
   ]
  }
 ],
 "metadata": {
  "kernelspec": {
   "display_name": "Python 3",
   "language": "python",
   "name": "python3"
  },
  "language_info": {
   "codemirror_mode": {
    "name": "ipython",
    "version": 3
   },
   "file_extension": ".py",
   "mimetype": "text/x-python",
   "name": "python",
   "nbconvert_exporter": "python",
   "pygments_lexer": "ipython3",
   "version": "3.6.8"
  }
 },
 "nbformat": 4,
 "nbformat_minor": 2
}
